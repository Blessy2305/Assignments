{
 "cells": [
  {
   "cell_type": "markdown",
   "id": "a8e7b5bb",
   "metadata": {},
   "source": [
    "#### 1.\tCreate Menu using dictionary . Dictionary of Items along with prices. "
   ]
  },
  {
   "cell_type": "code",
   "execution_count": 23,
   "id": "1a0c6023",
   "metadata": {},
   "outputs": [],
   "source": [
    "menu={\"cornsoup\":35,\"salad\":35,\"Raita\":30,\"chilli chicken\":50,\"chicken 65\":60,\"chicken manchuria\":60,\"prawns Biryani\":300,\"Chicken Biryani\":150,\\\n",
    "           \"Mutton Biryani\":250,\"french fries\":100,\"Burger\":150,\"pizza\":200,\"water bottle\":20,\"softdrinks\":50}"
   ]
  },
  {
   "cell_type": "markdown",
   "id": "f6f3ee62",
   "metadata": {},
   "source": [
    "#### 2.\tCreate Tables info using Dictionary. Dictionary of Table Number with capacity"
   ]
  },
  {
   "cell_type": "code",
   "execution_count": 24,
   "id": "d77623aa",
   "metadata": {},
   "outputs": [],
   "source": [
    "Table_capacity={'table1':2,'table2':4,'table3':6,'table4':8,'table5':10,'table6':12}"
   ]
  },
  {
   "cell_type": "markdown",
   "id": "ca8df8bd",
   "metadata": {},
   "source": [
    "#### 3.\tCreate Table occupied dictionary using table number and occupied or not. "
   ]
  },
  {
   "cell_type": "code",
   "execution_count": 25,
   "id": "18fbf904",
   "metadata": {},
   "outputs": [],
   "source": [
    "Table_Occupancy={'table1':False,'table2':False,'table3':False,\\\n",
    "                'table4':False,'table5':False,'table6':False}"
   ]
  },
  {
   "cell_type": "markdown",
   "id": "f4b61591",
   "metadata": {},
   "source": [
    "#### 4.\tCreate Waiter info using Dictionary. Dictionary with waiterID, Table numbers waiter handles in list. "
   ]
  },
  {
   "cell_type": "code",
   "execution_count": 26,
   "id": "6969859c",
   "metadata": {},
   "outputs": [],
   "source": [
    "Waiter={'waiter1':['table2','table4','table6'],'waiter2':['table1','table3','table5'],'waiter3':['table8','table1','table2']}"
   ]
  },
  {
   "cell_type": "markdown",
   "id": "b05bf03f",
   "metadata": {},
   "source": [
    "#### 5.\tCreate a function to display the Menu as good as Possible. (Organized)"
   ]
  },
  {
   "cell_type": "code",
   "execution_count": 28,
   "id": "683a8e1b",
   "metadata": {},
   "outputs": [
    {
     "name": "stdout",
     "output_type": "stream",
     "text": [
      "                              welcome to resturant                              \n",
      "****************************************************************************************************\n",
      "cornsoup : Rs35\n",
      "\n",
      "salad : Rs35\n",
      "\n",
      "Raita : Rs30\n",
      "\n",
      "chilli chicken : Rs50\n",
      "\n",
      "chicken 65 : Rs60\n",
      "\n",
      "chicken manchuria : Rs60\n",
      "\n",
      "prawns Biryani : Rs300\n",
      "\n",
      "Chicken Biryani : Rs150\n",
      "\n",
      "Mutton Biryani : Rs250\n",
      "\n",
      "french fries : Rs100\n",
      "\n",
      "Burger : Rs150\n",
      "\n",
      "pizza : Rs200\n",
      "\n",
      "water bottle : Rs20\n",
      "\n",
      "softdrinks : Rs50\n",
      "\n",
      "\n",
      "****************************************************************************************************\n"
     ]
    }
   ],
   "source": [
    "def menu_card():\n",
    "    menu={\"cornsoup\":35,\"salad\":35,\"Raita\":30,\"chilli chicken\":50,\"chicken 65\":60,\"chicken manchuria\":60,\"prawns Biryani\":300,\"Chicken Biryani\":150,\\\n",
    "           \"Mutton Biryani\":250,\"french fries\":100,\"Burger\":150,\"pizza\":200,\"water bottle\":20,\"softdrinks\":50}\n",
    "    text=\"welcome to resturant\"\n",
    "    x=text.center(80)\n",
    "    print(x)\n",
    "    print(\"*\"*100)\n",
    "    for i in menu:\n",
    "        values=menu.get(str(i))\n",
    "        print(f\"{i} : Rs{values}\\n\")\n",
    "    \n",
    "    print()\n",
    "    print(\"*\"*100)    \n",
    "        \n",
    "menu_card()"
   ]
  },
  {
   "cell_type": "markdown",
   "id": "ef41368a",
   "metadata": {},
   "source": [
    "#### 6.\tCreate a function to assign a table based on capacity. Function should take, Number of People, Check each table capacity and if table capacity>=People and not occupied assign the table and mark table as occupied. Note: Table capacity should be as optimum as possible. If 2 people comes don’t assign table of 10 capacity. \n"
   ]
  },
  {
   "cell_type": "code",
   "execution_count": 29,
   "id": "abf3457a",
   "metadata": {},
   "outputs": [],
   "source": [
    "#c=int(input(\"Enter number of customers\"))\n",
    "def table_capacity(c):\n",
    "    flag=0\n",
    "    if c>=1:\n",
    "        if c in Table_capacity.values():\n",
    "            print(c) \n",
    "            for k,d in Table_capacity.items():\n",
    "                if c==d:\n",
    "                    table1=k\n",
    "                    if Table_Occupancy[table1]==False:\n",
    "                        print(\"Go to\",table1)\n",
    "                        Table_Occupancy[table1]=True\n",
    "                        print(\"Occupied:\",Table_Occupancy)\n",
    "                        flag=1\n",
    "                        break\n",
    "        else:\n",
    "            for k,d in Table_capacity.items():\n",
    "                if d>c:\n",
    "                    table1=k\n",
    "                    if Table_Occupancy[table1]==False:\n",
    "                        print(\"Go to\",table1)\n",
    "                        Table_Occupancy[table1]=True\n",
    "                        print(\"Occupied:\",Table_Occupancy)\n",
    "                        flag=1\n",
    "                        break\n",
    "        if flag==0:\n",
    "            print(\"Seating capacity is not available\")\n",
    "    else:\n",
    "        print(\"Please enter valid number of customers\")\n",
    "             "
   ]
  },
  {
   "cell_type": "markdown",
   "id": "6ccb6834",
   "metadata": {},
   "source": [
    "#### order function"
   ]
  },
  {
   "cell_type": "code",
   "execution_count": 30,
   "id": "464e87e3",
   "metadata": {},
   "outputs": [
    {
     "name": "stdout",
     "output_type": "stream",
     "text": [
      "date and time = 23/04/2023 20:02:30\n",
      "{'cornsoup': 35, 'salad': 35, 'Raita': 30, 'chicken 65': 60, 'chicken manchuria': 60}\n"
     ]
    }
   ],
   "source": [
    "def orderFunction(*args):\n",
    "    global now,time,n,t1\n",
    "    menuOrder={\"cornsoup\":35,\"salad\":35,\"Raita\":30,\"chicken 65\":60,\"chicken manchuria\":60,\"prawns Biryani\":300,\"Chicken Biryani\":150,\"Mutton Biryani\":250,\"french fries\":100,\"Burger\":150,\"pizza\":200,\"water bottle\":20,\"softdrinks\":50}\n",
    "    order_dict={}\n",
    "   \n",
    "    from datetime import datetime\n",
    "    now = datetime.now()\n",
    "    dt_string = now.strftime(\"%d/%m/%Y %H:%M:%S\")\n",
    "    print(\"date and time =\", dt_string)\n",
    "   \n",
    "    for i in args:\n",
    "        order_dict[i]=menuOrder[i]\n",
    "    return order_dict    \n",
    "\n",
    "person_order1=orderFunction(\"cornsoup\",\"salad\",\"Raita\",\"chicken 65\",\"chicken manchuria\")\n",
    "print(person_order1)"
   ]
  },
  {
   "cell_type": "markdown",
   "id": "69f886a4",
   "metadata": {},
   "source": [
    "#### bill generation"
   ]
  },
  {
   "cell_type": "code",
   "execution_count": 33,
   "id": "033c5cc4",
   "metadata": {},
   "outputs": [
    {
     "name": "stdout",
     "output_type": "stream",
     "text": [
      "Enter number of customers7\n",
      "Go to table4\n",
      "Occupied: {'table1': True, 'table2': True, 'table3': False, 'table4': True, 'table5': False, 'table6': False}\n",
      "\n",
      "\n",
      " How many portions for each one in order1: 1\n",
      "\n",
      " How many portions for each one in order1: 1\n",
      "\n",
      " How many portions for each one in order1: 1\n",
      "\n",
      " How many portions for each one in order1: 1\n",
      "\n",
      " How many portions for each one in order1: 1\n",
      "\n",
      "order date and time = 23/04/2023 20:03:17\n",
      "\n",
      "Enter GST rate%:18\n",
      "\n",
      "Enter Tip Amount: Rs10\n",
      "\n",
      "\n",
      "total bill: Rs 269.6\n",
      "\n",
      "**************************************************************************************************** \n",
      "Thanks for the order. Enjoy your meal\n"
     ]
    }
   ],
   "source": [
    "from datetime import datetime\n",
    "# datetime object containing current date and time\n",
    "now = datetime.now()\n",
    "dt_string = now.strftime(\"%d/%m/%Y %H:%M:%S\")\n",
    "\n",
    "status,price=\"y\",0\n",
    "def generating_bill(person_order1):        \n",
    "    global status,price\n",
    "   \n",
    "    c=int(input(\"Enter number of customers\"))\n",
    "    t1=table_capacity(c)\n",
    "    print()\n",
    "       \n",
    "    if status.lower()==\"y\":    \n",
    "        try:\n",
    "            for i in person_order1:\n",
    "                portions=int(input(\"\\n How many portions for each one in order1: \"))\n",
    "                values=person_order1.get(i)\n",
    "                price=price+(values*portions)\n",
    "        except:\n",
    "            print(\"Incorrect input\")\n",
    "            return selection(person_order1)  \n",
    "\n",
    "    print()    \n",
    "    print(\"order date and time =\", dt_string)\n",
    "    print()    \n",
    "    gst=float(input(\"Enter GST rate%:\"))\n",
    "    print()\n",
    "    tax=(gst/100)*price\n",
    "    tip=int(input(\"Enter Tip Amount: Rs\"))\n",
    "    print()\n",
    "    Total_Amount = price+tax+tip\n",
    "    print(f\"\\ntotal bill: Rs {Total_Amount}\\n\")\n",
    "    print(\"*\"*100,\"\\nThanks for the order. Enjoy your meal\")\n",
    "\n",
    "\n",
    "generating_bill(person_order1)  "
   ]
  },
  {
   "cell_type": "markdown",
   "id": "2f3a49cb",
   "metadata": {},
   "source": [
    "#### feedback form "
   ]
  },
  {
   "cell_type": "code",
   "execution_count": 34,
   "id": "998d3442",
   "metadata": {},
   "outputs": [
    {
     "name": "stdout",
     "output_type": "stream",
     "text": [
      "Enter your namehari\n",
      "Enter your phone number: 67890ruijc;k\n",
      "Quality_of_food: 1.Excellent 2.Good 3.Average 4.Bad :3\n",
      "Service_providedby_Rest:1.Excellent 2.Good 3.Average 4.Bad :3\n",
      "Any comments/Suggestion:\n",
      "good\n",
      "Thanks for your valuable feedback\n"
     ]
    }
   ],
   "source": [
    "def feedback_Form():\n",
    "    name = input(\"Enter your name\")\n",
    "    phone_Number = (input(\"Enter your phone number: \"))    \n",
    "            \n",
    "    food_quality = input(\"Quality_of_food: 1.Excellent 2.Good 3.Average 4.Bad :\")\n",
    "  \n",
    "    Service_by_rest = input(\"Service_providedby_Rest:1.Excellent 2.Good 3.Average 4.Bad :\")\n",
    "   \n",
    "    Suggestions = input(\"Any comments/Suggestion:\\n\")\n",
    "    \n",
    "    print(\"Thanks for your valuable feedback\")\n",
    "\n",
    "feedback_Form()   "
   ]
  },
  {
   "cell_type": "code",
   "execution_count": null,
   "id": "713b0f5d",
   "metadata": {},
   "outputs": [],
   "source": []
  },
  {
   "cell_type": "code",
   "execution_count": null,
   "id": "dccde269",
   "metadata": {},
   "outputs": [],
   "source": []
  },
  {
   "cell_type": "code",
   "execution_count": null,
   "id": "e0ae8bf8",
   "metadata": {},
   "outputs": [],
   "source": []
  }
 ],
 "metadata": {
  "kernelspec": {
   "display_name": "Python 3 (ipykernel)",
   "language": "python",
   "name": "python3"
  },
  "language_info": {
   "codemirror_mode": {
    "name": "ipython",
    "version": 3
   },
   "file_extension": ".py",
   "mimetype": "text/x-python",
   "name": "python",
   "nbconvert_exporter": "python",
   "pygments_lexer": "ipython3",
   "version": "3.9.13"
  }
 },
 "nbformat": 4,
 "nbformat_minor": 5
}
