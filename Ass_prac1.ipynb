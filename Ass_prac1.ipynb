{
 "cells": [
  {
   "cell_type": "markdown",
   "id": "a58fdb39",
   "metadata": {},
   "source": [
    "### Find sum of element wise difference between two lists using Python¶"
   ]
  },
  {
   "cell_type": "code",
   "execution_count": 11,
   "id": "4a0cfcaa",
   "metadata": {},
   "outputs": [
    {
     "name": "stdout",
     "output_type": "stream",
     "text": [
      "[1, 8, 2, 2, 1, 4, 3, 2]\n",
      "23\n"
     ]
    }
   ],
   "source": [
    "list1 = [5,12,5,6,2,6,7,8] \n",
    "list2 = [6,4,3,8,1,2,4,6]\n",
    "difference=[]\n",
    "for i ,j in zip(list1,list2):\n",
    "        if i<j:\n",
    "            difference.append(j-i)\n",
    "        elif i>j:\n",
    "            difference.append(i-j)\n",
    "print(difference)\n",
    "l=difference\n",
    "add=0\n",
    "for k in l:\n",
    "    add+=k\n",
    "print(add)\n"
   ]
  },
  {
   "cell_type": "code",
   "execution_count": 12,
   "id": "1b403194",
   "metadata": {},
   "outputs": [
    {
     "name": "stdout",
     "output_type": "stream",
     "text": [
      "[1, 8, 2, 2, 1, 4, 3, 2]\n"
     ]
    },
    {
     "data": {
      "text/plain": [
       "23"
      ]
     },
     "execution_count": 12,
     "metadata": {},
     "output_type": "execute_result"
    }
   ],
   "source": [
    "list1 = [5,12,5,6,2,6,7,8] \n",
    "list2 = [6,4,3,8,1,2,4,6]\n",
    "difference=[]\n",
    "for i ,j in zip(list1,list2):\n",
    "        if i<j:\n",
    "            difference.append(j-i)\n",
    "        elif i>j:\n",
    "            difference.append(i-j)\n",
    "print(difference)\n",
    "sum(difference)"
   ]
  },
  {
   "cell_type": "markdown",
   "id": "5b7083cf",
   "metadata": {},
   "source": [
    "### Create a Function which can take any number of numerical arguments, calculate Arithmetic Mean, Geometric Mean and Harmonic Mean"
   ]
  },
  {
   "cell_type": "code",
   "execution_count": 34,
   "id": "fc5b9532",
   "metadata": {},
   "outputs": [],
   "source": [
    "def func(*n):\n",
    "    Arthemetic_mean=sum(n)/len(n)\n",
    "    print(\"Am\",Arthemetic_mean)\n",
    "    x=1\n",
    "    y=0\n",
    "    for i in n:\n",
    "        x*=i\n",
    "        y+=1/i\n",
    "    Geometric_mean=x**(1/len(n))\n",
    "    print(\"gm\",Geometric_mean)\n",
    "    y+=1/i\n",
    "    Harmonic_mean=len(n)/y\n",
    "    print(\"Hm -\",Harmonic_mean)\n",
    "    \n",
    "    \n",
    "    "
   ]
  },
  {
   "cell_type": "code",
   "execution_count": 35,
   "id": "ee53aa53",
   "metadata": {},
   "outputs": [
    {
     "name": "stdout",
     "output_type": "stream",
     "text": [
      "Am 23.0\n",
      "gm 22.956422674338096\n",
      "Hm - 19.363444528268882\n"
     ]
    }
   ],
   "source": [
    "func(21,22,23,24,25)"
   ]
  },
  {
   "cell_type": "code",
   "execution_count": 4,
   "id": "4ad0b33c",
   "metadata": {},
   "outputs": [],
   "source": [
    "def func(*n):\n",
    "    Arthemetic_mean=sum(n)/len(n)\n",
    "    print(\"Am\",Arthemetic_mean)\n",
    "    x=1\n",
    "    y=0\n",
    "    for i in n:\n",
    "        x*=i\n",
    "        y+=1/i\n",
    "    Geometric_mean=x**(1/len(n))\n",
    "    print(\"gm\",Geometric_mean)\n",
    "    try:\n",
    "        y+=1/i\n",
    "        Harmonic_mean=len(n)/y\n",
    "        print(\"Hm -\",Harmonic_mean)\n",
    "    except:\n",
    "        print(\"excpetion handling\")\n",
    "    "
   ]
  },
  {
   "cell_type": "code",
   "execution_count": 5,
   "id": "36da7baa",
   "metadata": {},
   "outputs": [
    {
     "name": "stdout",
     "output_type": "stream",
     "text": [
      "Am 23.0\n",
      "gm 22.956422674338096\n",
      "Hm - 19.363444528268882\n"
     ]
    }
   ],
   "source": [
    "func(21,22,23,24,25)"
   ]
  },
  {
   "cell_type": "markdown",
   "id": "e22b8cb4",
   "metadata": {},
   "source": [
    "### Create a Function, which takes three arguments, first argument should be dictionary, second argument should be integer, third argument should be another dictionary.\n",
    "### Based on the integer value (consider this as index, which starts at 0), insert new dictionary values at index position in first dictionary, and return new dictionary."
   ]
  },
  {
   "cell_type": "code",
   "execution_count": 35,
   "id": "37f38e8d",
   "metadata": {},
   "outputs": [
    {
     "name": "stdout",
     "output_type": "stream",
     "text": [
      "enter a number3\n"
     ]
    }
   ],
   "source": [
    "p={'a':24,'b':30,'c':23}\n",
    "q=int(input(\"enter a number\"))\n",
    "r={1:'red',2:'blue',3:'brown'}\n",
    "def argument(p,q,r):\n",
    "    k=0\n",
    "    x={}\n",
    "    if q<len(p):\n",
    "        for i in list(p.keys()):\n",
    "            if q==k:\n",
    "                x.update(r)\n",
    "            x[i]=p[i]\n",
    "            k+=1\n",
    "        print(x)\n",
    "    else:\n",
    "        p.update(r)\n",
    "        print(p)"
   ]
  },
  {
   "cell_type": "code",
   "execution_count": 36,
   "id": "4b078d17",
   "metadata": {},
   "outputs": [
    {
     "name": "stdout",
     "output_type": "stream",
     "text": [
      "{'a': 24, 'b': 30, 'c': 23, 1: 'red', 2: 'blue', 3: 'brown'}\n"
     ]
    }
   ],
   "source": [
    "argument(p,q,r)"
   ]
  },
  {
   "cell_type": "markdown",
   "id": "e95df63a",
   "metadata": {},
   "source": [
    "### Create a Function which takes two lists as parameters, check whether two lists of same length, if not same length return not same lenght. otherwise sort the first list in ascending order and also sort the second list in liue of list "
   ]
  },
  {
   "cell_type": "code",
   "execution_count": 7,
   "id": "3d1d58f5",
   "metadata": {},
   "outputs": [],
   "source": [
    "def sort(l1,l2):\n",
    "    if len(l1)!=len(l2):\n",
    "        print(\"not in same length\")\n",
    "    else:\n",
    "        x=list(l1)\n",
    "        x.sort()\n",
    "        print(x)\n",
    "        y=[]\n",
    "        for i in x:\n",
    "            for j in range(0,len(l2)):\n",
    "                if l1[j]==i:\n",
    "                    y.append(l2[j])\n",
    "        print(y)"
   ]
  },
  {
   "cell_type": "code",
   "execution_count": 8,
   "id": "08c9a874",
   "metadata": {},
   "outputs": [],
   "source": [
    "l1=[6,10,2,13,45,67,32,1] \n",
    "l2=[8,3,9,12,54,322,98,54]"
   ]
  },
  {
   "cell_type": "code",
   "execution_count": 9,
   "id": "4babb3bc",
   "metadata": {},
   "outputs": [
    {
     "name": "stdout",
     "output_type": "stream",
     "text": [
      "[1, 2, 6, 10, 13, 32, 45, 67]\n",
      "[54, 9, 8, 3, 12, 98, 54, 322]\n"
     ]
    }
   ],
   "source": [
    "sort(l1,l2)"
   ]
  },
  {
   "cell_type": "markdown",
   "id": "731a6d49",
   "metadata": {},
   "source": [
    "### create a function, which takes string as argument, create all combinations"
   ]
  },
  {
   "cell_type": "code",
   "execution_count": 10,
   "id": "6c7cd1b1",
   "metadata": {},
   "outputs": [],
   "source": [
    "#Ex: abcdefg\n",
    "#ans should be:\n",
    "#a, ab, abc, abcd, abcde, abcdef, abcdefg,\n",
    " #b, bc, bcd, bcde, bcdef, bcdefg,\n",
    "# c, cd, cde, cdef, cdefg, \n",
    "#d, de, def, defg, \n",
    "#e, ef, efg,\n",
    " #f, fg\n",
    " #g"
   ]
  },
  {
   "cell_type": "code",
   "execution_count": 1,
   "id": "16acd303",
   "metadata": {},
   "outputs": [],
   "source": [
    "s= \"abcdefg\"\n",
    "def func2(s):\n",
    "    for start in range(len(s)):\n",
    "        for stop in range(start,len(s)):\n",
    "            print(s[start:stop+1],end=\"\\n\")\n",
    "            "
   ]
  },
  {
   "cell_type": "code",
   "execution_count": 2,
   "id": "a3714031",
   "metadata": {},
   "outputs": [
    {
     "name": "stdout",
     "output_type": "stream",
     "text": [
      "a\n",
      "ab\n",
      "abc\n",
      "abcd\n",
      "abcde\n",
      "abcdef\n",
      "abcdefg\n",
      "b\n",
      "bc\n",
      "bcd\n",
      "bcde\n",
      "bcdef\n",
      "bcdefg\n",
      "c\n",
      "cd\n",
      "cde\n",
      "cdef\n",
      "cdefg\n",
      "d\n",
      "de\n",
      "def\n",
      "defg\n",
      "e\n",
      "ef\n",
      "efg\n",
      "f\n",
      "fg\n",
      "g\n"
     ]
    }
   ],
   "source": [
    "func2(s)"
   ]
  },
  {
   "cell_type": "markdown",
   "id": "a82ddad1",
   "metadata": {},
   "source": [
    "### Write a Python function that generates all possible subsets of a given list recursively. For example, if the input list is [1, 2, 3], the output should be [], [1], [2], [3], [1, 2], [1, 3], [2, 3], [1, 2, 3].\n"
   ]
  },
  {
   "cell_type": "code",
   "execution_count": 61,
   "id": "2d144618",
   "metadata": {},
   "outputs": [],
   "source": [
    "def subset(l):\n",
    "    if l == []:\n",
    "        return [[]]\n",
    "    else:\n",
    "        x = subs(l[1:])\n",
    "        return x + [[l[0]] + y for y in x]"
   ]
  },
  {
   "cell_type": "code",
   "execution_count": 62,
   "id": "f61e4d27",
   "metadata": {},
   "outputs": [
    {
     "name": "stdout",
     "output_type": "stream",
     "text": [
      "[[], [4], [3], [3, 4], [2], [2, 4], [2, 3], [2, 3, 4], [1], [1, 4], [1, 3], [1, 3, 4], [1, 2], [1, 2, 4], [1, 2, 3], [1, 2, 3, 4]]\n"
     ]
    }
   ],
   "source": [
    "l1=[1,2,3,4]\n",
    "k=subset(l1)\n",
    "print(k)"
   ]
  },
  {
   "cell_type": "code",
   "execution_count": null,
   "id": "cd5f96dc",
   "metadata": {},
   "outputs": [],
   "source": []
  }
 ],
 "metadata": {
  "kernelspec": {
   "display_name": "Python 3 (ipykernel)",
   "language": "python",
   "name": "python3"
  },
  "language_info": {
   "codemirror_mode": {
    "name": "ipython",
    "version": 3
   },
   "file_extension": ".py",
   "mimetype": "text/x-python",
   "name": "python",
   "nbconvert_exporter": "python",
   "pygments_lexer": "ipython3",
   "version": "3.9.13"
  }
 },
 "nbformat": 4,
 "nbformat_minor": 5
}
