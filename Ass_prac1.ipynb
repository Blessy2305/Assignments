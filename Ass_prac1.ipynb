{
 "cells": [
  {
   "cell_type": "markdown",
   "id": "a58fdb39",
   "metadata": {},
   "source": [
    "### Find sum of element wise difference between two lists using Python¶"
   ]
  },
  {
   "cell_type": "code",
   "execution_count": 11,
   "id": "4a0cfcaa",
   "metadata": {},
   "outputs": [
    {
     "name": "stdout",
     "output_type": "stream",
     "text": [
      "[1, 8, 2, 2, 1, 4, 3, 2]\n",
      "23\n"
     ]
    }
   ],
   "source": [
    "list1 = [5,12,5,6,2,6,7,8] \n",
    "list2 = [6,4,3,8,1,2,4,6]\n",
    "difference=[]\n",
    "for i ,j in zip(list1,list2):\n",
    "        if i<j:\n",
    "            difference.append(j-i)\n",
    "        elif i>j:\n",
    "            difference.append(i-j)\n",
    "print(difference)\n",
    "l=difference\n",
    "add=0\n",
    "for k in l:\n",
    "    add+=k\n",
    "print(add)\n"
   ]
  },
  {
   "cell_type": "code",
   "execution_count": 12,
   "id": "1b403194",
   "metadata": {},
   "outputs": [
    {
     "name": "stdout",
     "output_type": "stream",
     "text": [
      "[1, 8, 2, 2, 1, 4, 3, 2]\n"
     ]
    },
    {
     "data": {
      "text/plain": [
       "23"
      ]
     },
     "execution_count": 12,
     "metadata": {},
     "output_type": "execute_result"
    }
   ],
   "source": [
    "list1 = [5,12,5,6,2,6,7,8] \n",
    "list2 = [6,4,3,8,1,2,4,6]\n",
    "difference=[]\n",
    "for i ,j in zip(list1,list2):\n",
    "        if i<j:\n",
    "            difference.append(j-i)\n",
    "        elif i>j:\n",
    "            difference.append(i-j)\n",
    "print(difference)\n",
    "sum(difference)"
   ]
  },
  {
   "cell_type": "code",
   "execution_count": 34,
   "id": "fc5b9532",
   "metadata": {},
   "outputs": [],
   "source": [
    "def func(*n):\n",
    "    Arthemetic_mean=sum(n)/len(n)\n",
    "    print(\"Am\",Arthemetic_mean)\n",
    "    x=1\n",
    "    y=0\n",
    "    for i in n:\n",
    "        x*=i\n",
    "        y+=1/i\n",
    "    Geometric_mean=x**(1/len(n))\n",
    "    print(\"gm\",Geometric_mean)\n",
    "    y+=1/i\n",
    "    Harmonic_mean=len(n)/y\n",
    "    print(\"Hm -\",Harmonic_mean)\n",
    "    \n",
    "    \n",
    "    "
   ]
  },
  {
   "cell_type": "code",
   "execution_count": 35,
   "id": "ee53aa53",
   "metadata": {},
   "outputs": [
    {
     "name": "stdout",
     "output_type": "stream",
     "text": [
      "Am 23.0\n",
      "gm 22.956422674338096\n",
      "Hm - 19.363444528268882\n"
     ]
    }
   ],
   "source": [
    "func(21,22,23,24,25)"
   ]
  },
  {
   "cell_type": "code",
   "execution_count": 4,
   "id": "4ad0b33c",
   "metadata": {},
   "outputs": [],
   "source": [
    "def func(*n):\n",
    "    Arthemetic_mean=sum(n)/len(n)\n",
    "    print(\"Am\",Arthemetic_mean)\n",
    "    x=1\n",
    "    y=0\n",
    "    for i in n:\n",
    "        x*=i\n",
    "        y+=1/i\n",
    "    Geometric_mean=x**(1/len(n))\n",
    "    print(\"gm\",Geometric_mean)\n",
    "    try:\n",
    "        y+=1/i\n",
    "        Harmonic_mean=len(n)/y\n",
    "        print(\"Hm -\",Harmonic_mean)\n",
    "    except:\n",
    "        print(\"excpetion handling\")\n",
    "    "
   ]
  },
  {
   "cell_type": "code",
   "execution_count": 5,
   "id": "36da7baa",
   "metadata": {},
   "outputs": [
    {
     "name": "stdout",
     "output_type": "stream",
     "text": [
      "Am 23.0\n",
      "gm 22.956422674338096\n",
      "Hm - 19.363444528268882\n"
     ]
    }
   ],
   "source": [
    "func(21,22,23,24,25)"
   ]
  },
  {
   "cell_type": "code",
   "execution_count": null,
   "id": "774c3556",
   "metadata": {},
   "outputs": [],
   "source": []
  }
 ],
 "metadata": {
  "kernelspec": {
   "display_name": "Python 3 (ipykernel)",
   "language": "python",
   "name": "python3"
  },
  "language_info": {
   "codemirror_mode": {
    "name": "ipython",
    "version": 3
   },
   "file_extension": ".py",
   "mimetype": "text/x-python",
   "name": "python",
   "nbconvert_exporter": "python",
   "pygments_lexer": "ipython3",
   "version": "3.9.13"
  }
 },
 "nbformat": 4,
 "nbformat_minor": 5
}
